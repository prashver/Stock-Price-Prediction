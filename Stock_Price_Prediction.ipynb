{
  "nbformat": 4,
  "nbformat_minor": 0,
  "metadata": {
    "colab": {
      "name": "Stock-Price-Prediction.ipynb",
      "provenance": [],
      "collapsed_sections": [],
      "authorship_tag": "ABX9TyO3gaCdtYSl8Q9LIkAqvHnX",
      "include_colab_link": true
    },
    "kernelspec": {
      "name": "python3",
      "display_name": "Python 3"
    },
    "language_info": {
      "name": "python"
    }
  },
  "cells": [
    {
      "cell_type": "markdown",
      "metadata": {
        "id": "view-in-github",
        "colab_type": "text"
      },
      "source": [
        "<a href=\"https://colab.research.google.com/github/prashver/Stock-Price-Prediction/blob/master/Stock_Price_Prediction.ipynb\" target=\"_parent\"><img src=\"https://colab.research.google.com/assets/colab-badge.svg\" alt=\"Open In Colab\"/></a>"
      ]
    },
    {
      "cell_type": "markdown",
      "source": [
        "# **Nestle India Stock Price Prediction**"
      ],
      "metadata": {
        "id": "z8UzMCrShcVI"
      }
    },
    {
      "cell_type": "markdown",
      "source": [
        "NESTLÉ India is a subsidiary of NESTLÉ S.A. of Switzerland. With eight factories and a large number of co-packers, Nestlé India is a vibrant Company that provides consumers in India with products of global standards and is committed to long-term sustainable growth and shareholder satisfaction.\n",
        "\n",
        "Here, we are going to predict the future stock price of the company using Recurrent Neural Networks on the basis of historical stock data provided."
      ],
      "metadata": {
        "id": "gBapcAXiiCdp"
      }
    },
    {
      "cell_type": "markdown",
      "source": [
        "## Part 1 - Data Preprocessing"
      ],
      "metadata": {
        "id": "tMI9sM5Zi2Gs"
      }
    },
    {
      "cell_type": "markdown",
      "source": [
        "### Importing the libraries\n"
      ],
      "metadata": {
        "id": "UfnZr4Sli_T-"
      }
    },
    {
      "cell_type": "code",
      "source": [
        "import numpy as np\n",
        "import pandas as pd\n",
        "import matplotlib.pyplot as plt"
      ],
      "metadata": {
        "id": "d4c-1Iw1jBfn"
      },
      "execution_count": 24,
      "outputs": []
    },
    {
      "cell_type": "markdown",
      "source": [
        "###Importing the training set"
      ],
      "metadata": {
        "id": "haLk7yZ9ja9v"
      }
    },
    {
      "cell_type": "code",
      "source": [
        "train_df = pd.read_csv('Nestle_India_Stock_Price_Train.csv')\n",
        "train_df.info()"
      ],
      "metadata": {
        "colab": {
          "base_uri": "https://localhost:8080/"
        },
        "id": "6gd1QXg_jTE3",
        "outputId": "2e63d51b-8813-40bb-e401-edaa3924f72f"
      },
      "execution_count": 25,
      "outputs": [
        {
          "output_type": "stream",
          "name": "stdout",
          "text": [
            "<class 'pandas.core.frame.DataFrame'>\n",
            "RangeIndex: 1455 entries, 0 to 1454\n",
            "Data columns (total 6 columns):\n",
            " #   Column  Non-Null Count  Dtype \n",
            "---  ------  --------------  ----- \n",
            " 0   Date    1455 non-null   object\n",
            " 1   Open    1455 non-null   object\n",
            " 2   High    1455 non-null   object\n",
            " 3   Low     1455 non-null   object\n",
            " 4   Close   1455 non-null   object\n",
            " 5   Volume  1455 non-null   object\n",
            "dtypes: object(6)\n",
            "memory usage: 68.3+ KB\n"
          ]
        }
      ]
    },
    {
      "cell_type": "markdown",
      "source": [
        "Here the data type of columns we are going to be used for prediction are having data type as object. So in order to make them of use, we need to convert them into float data type."
      ],
      "metadata": {
        "id": "A2qLbZ72nUmu"
      }
    },
    {
      "cell_type": "code",
      "source": [
        "train_df['Open'] = train_df['Open'].str.replace(',','').astype(np.float64)\n",
        "train_df['High'] = train_df['High'].str.replace(',','').astype(np.float64)\n",
        "train_df['Low'] = train_df['Low'].str.replace(',','').astype(np.float64)\n",
        "train_df['Close'] = train_df['Close'].str.replace(',','').astype(np.float64)\n",
        "train_df['Volume'] = train_df['Volume'].str.replace(',','').astype(np.float64)"
      ],
      "metadata": {
        "id": "74GvwBgFju6t"
      },
      "execution_count": 26,
      "outputs": []
    },
    {
      "cell_type": "code",
      "source": [
        "train_df.info()"
      ],
      "metadata": {
        "colab": {
          "base_uri": "https://localhost:8080/"
        },
        "id": "LQ_wHFW5oooQ",
        "outputId": "44a5b697-8eca-4bd3-9abd-209d30adbda1"
      },
      "execution_count": 27,
      "outputs": [
        {
          "output_type": "stream",
          "name": "stdout",
          "text": [
            "<class 'pandas.core.frame.DataFrame'>\n",
            "RangeIndex: 1455 entries, 0 to 1454\n",
            "Data columns (total 6 columns):\n",
            " #   Column  Non-Null Count  Dtype  \n",
            "---  ------  --------------  -----  \n",
            " 0   Date    1455 non-null   object \n",
            " 1   Open    1455 non-null   float64\n",
            " 2   High    1455 non-null   float64\n",
            " 3   Low     1455 non-null   float64\n",
            " 4   Close   1455 non-null   float64\n",
            " 5   Volume  1455 non-null   float64\n",
            "dtypes: float64(5), object(1)\n",
            "memory usage: 68.3+ KB\n"
          ]
        }
      ]
    },
    {
      "cell_type": "code",
      "source": [
        "training_set = train_df.iloc[:, 1:2].values\n",
        "training_set"
      ],
      "metadata": {
        "colab": {
          "base_uri": "https://localhost:8080/"
        },
        "id": "UC949qOAqE50",
        "outputId": "b4a8d331-1d72-4c19-a993-8a9129c300b7"
      },
      "execution_count": 28,
      "outputs": [
        {
          "output_type": "execute_result",
          "data": {
            "text/plain": [
              "array([[ 6209.],\n",
              "       [ 6162.],\n",
              "       [ 6092.],\n",
              "       ...,\n",
              "       [17340.],\n",
              "       [17646.],\n",
              "       [17849.]])"
            ]
          },
          "metadata": {},
          "execution_count": 28
        }
      ]
    },
    {
      "cell_type": "markdown",
      "source": [
        "###Feature Scaling"
      ],
      "metadata": {
        "id": "x9gHDklJrcUI"
      }
    },
    {
      "cell_type": "code",
      "source": [
        "from sklearn.preprocessing import MinMaxScaler\n",
        "sc = MinMaxScaler(feature_range = (0, 1))\n",
        "training_set_scaled = sc.fit_transform(training_set)"
      ],
      "metadata": {
        "id": "lE07Gv00rFvq"
      },
      "execution_count": 6,
      "outputs": []
    },
    {
      "cell_type": "markdown",
      "source": [
        "###Creating a data structure with 60 timesteps and 1 output"
      ],
      "metadata": {
        "id": "n9SL3m4zrzAx"
      }
    },
    {
      "cell_type": "code",
      "source": [
        "X_train = []\n",
        "y_train = []\n",
        "\n",
        "for i in range(60, training_set.shape[0]):\n",
        "    X_train.append(training_set_scaled[i-60:i, 0])\n",
        "    y_train.append(training_set_scaled[i, 0])\n",
        "\n",
        "X_train, y_train = np.array(X_train), np.array(y_train)"
      ],
      "metadata": {
        "id": "-8TsWQEHrxAg"
      },
      "execution_count": 7,
      "outputs": []
    },
    {
      "cell_type": "markdown",
      "source": [
        "###Reshaping"
      ],
      "metadata": {
        "id": "T5BhFVypsdK7"
      }
    },
    {
      "cell_type": "code",
      "source": [
        "X_train = np.reshape(X_train, (X_train.shape[0], X_train.shape[1], 1))"
      ],
      "metadata": {
        "id": "ON2OIPhRsUL7"
      },
      "execution_count": 8,
      "outputs": []
    },
    {
      "cell_type": "markdown",
      "source": [
        "##Part 2 - Building the RNN"
      ],
      "metadata": {
        "id": "CPt6KJaLsrdj"
      }
    },
    {
      "cell_type": "markdown",
      "source": [
        "###Importing the libraries and packages"
      ],
      "metadata": {
        "id": "kvwfzZErs1y-"
      }
    },
    {
      "cell_type": "code",
      "source": [
        "from keras.models import Sequential\n",
        "from keras.layers import Dense\n",
        "from keras.layers import LSTM\n",
        "from keras.layers import Dropout"
      ],
      "metadata": {
        "id": "2VSYaHiosfn2"
      },
      "execution_count": 9,
      "outputs": []
    },
    {
      "cell_type": "markdown",
      "source": [
        "###Initialising the RNN"
      ],
      "metadata": {
        "id": "_eebzbnws-db"
      }
    },
    {
      "cell_type": "code",
      "source": [
        "regressor = Sequential()"
      ],
      "metadata": {
        "id": "KI0G9kvFs7yp"
      },
      "execution_count": 10,
      "outputs": []
    },
    {
      "cell_type": "markdown",
      "source": [
        "###Adding the LSTM Layers"
      ],
      "metadata": {
        "id": "T3HTY8b_tPu0"
      }
    },
    {
      "cell_type": "code",
      "source": [
        "#first layer\n",
        "regressor.add(LSTM(units = 50, return_sequences = True, input_shape = (X_train.shape[1], 1)))\n",
        "regressor.add(Dropout(0.2))\n",
        "\n",
        "#second layer\n",
        "regressor.add(LSTM(units = 50, return_sequences = True))\n",
        "regressor.add(Dropout(0.2))\n",
        "\n",
        "#third layer\n",
        "regressor.add(LSTM(units = 50, return_sequences = True))\n",
        "regressor.add(Dropout(0.2))\n",
        "\n",
        "#fourth layer\n",
        "regressor.add(LSTM(units = 50))\n",
        "regressor.add(Dropout(0.2))"
      ],
      "metadata": {
        "id": "v6YO2xGatDMq"
      },
      "execution_count": 11,
      "outputs": []
    },
    {
      "cell_type": "markdown",
      "source": [
        "###Adding Output layer"
      ],
      "metadata": {
        "id": "Pzlr5jaItmOx"
      }
    },
    {
      "cell_type": "code",
      "source": [
        "regressor.add(Dense(units = 1))"
      ],
      "metadata": {
        "id": "Mb56PmX3tlTq"
      },
      "execution_count": 12,
      "outputs": []
    },
    {
      "cell_type": "markdown",
      "source": [
        "###Compiling the RNN"
      ],
      "metadata": {
        "id": "ZPmyOsUTtuVv"
      }
    },
    {
      "cell_type": "code",
      "source": [
        "regressor.compile(optimizer = 'adam', loss = 'mean_squared_error')"
      ],
      "metadata": {
        "id": "6ftXJuRTtrfG"
      },
      "execution_count": 13,
      "outputs": []
    },
    {
      "cell_type": "markdown",
      "source": [
        "###Fitting the RNN to the Training set"
      ],
      "metadata": {
        "id": "q46B6huZt0AK"
      }
    },
    {
      "cell_type": "code",
      "source": [
        "regressor.fit(X_train, y_train, epochs = 100, batch_size = 32)"
      ],
      "metadata": {
        "colab": {
          "base_uri": "https://localhost:8080/"
        },
        "id": "KcVgsqehty6G",
        "outputId": "493fd191-0094-4760-a36a-7e98dcdc2830"
      },
      "execution_count": 14,
      "outputs": [
        {
          "output_type": "stream",
          "name": "stdout",
          "text": [
            "Epoch 1/100\n",
            "44/44 [==============================] - 18s 199ms/step - loss: 0.0319\n",
            "Epoch 2/100\n",
            "44/44 [==============================] - 8s 179ms/step - loss: 0.0049\n",
            "Epoch 3/100\n",
            "44/44 [==============================] - 4s 98ms/step - loss: 0.0052\n",
            "Epoch 4/100\n",
            "44/44 [==============================] - 4s 99ms/step - loss: 0.0053\n",
            "Epoch 5/100\n",
            "44/44 [==============================] - 4s 98ms/step - loss: 0.0052\n",
            "Epoch 6/100\n",
            "44/44 [==============================] - 4s 97ms/step - loss: 0.0044\n",
            "Epoch 7/100\n",
            "44/44 [==============================] - 4s 100ms/step - loss: 0.0041\n",
            "Epoch 8/100\n",
            "44/44 [==============================] - 4s 98ms/step - loss: 0.0034\n",
            "Epoch 9/100\n",
            "44/44 [==============================] - 4s 98ms/step - loss: 0.0041\n",
            "Epoch 10/100\n",
            "44/44 [==============================] - 4s 98ms/step - loss: 0.0036\n",
            "Epoch 11/100\n",
            "44/44 [==============================] - 4s 97ms/step - loss: 0.0039\n",
            "Epoch 12/100\n",
            "44/44 [==============================] - 4s 98ms/step - loss: 0.0038\n",
            "Epoch 13/100\n",
            "44/44 [==============================] - 4s 98ms/step - loss: 0.0035\n",
            "Epoch 14/100\n",
            "44/44 [==============================] - 4s 101ms/step - loss: 0.0035\n",
            "Epoch 15/100\n",
            "44/44 [==============================] - 4s 98ms/step - loss: 0.0032\n",
            "Epoch 16/100\n",
            "44/44 [==============================] - 4s 98ms/step - loss: 0.0037\n",
            "Epoch 17/100\n",
            "44/44 [==============================] - 5s 110ms/step - loss: 0.0034\n",
            "Epoch 18/100\n",
            "44/44 [==============================] - 5s 121ms/step - loss: 0.0033\n",
            "Epoch 19/100\n",
            "44/44 [==============================] - 4s 98ms/step - loss: 0.0039\n",
            "Epoch 20/100\n",
            "44/44 [==============================] - 4s 99ms/step - loss: 0.0032\n",
            "Epoch 21/100\n",
            "44/44 [==============================] - 4s 100ms/step - loss: 0.0033\n",
            "Epoch 22/100\n",
            "44/44 [==============================] - 4s 98ms/step - loss: 0.0028\n",
            "Epoch 23/100\n",
            "44/44 [==============================] - 4s 101ms/step - loss: 0.0031\n",
            "Epoch 24/100\n",
            "44/44 [==============================] - 4s 100ms/step - loss: 0.0026\n",
            "Epoch 25/100\n",
            "44/44 [==============================] - 4s 98ms/step - loss: 0.0032\n",
            "Epoch 26/100\n",
            "44/44 [==============================] - 4s 97ms/step - loss: 0.0027\n",
            "Epoch 27/100\n",
            "44/44 [==============================] - 4s 98ms/step - loss: 0.0030\n",
            "Epoch 28/100\n",
            "44/44 [==============================] - 4s 98ms/step - loss: 0.0026\n",
            "Epoch 29/100\n",
            "44/44 [==============================] - 4s 95ms/step - loss: 0.0027\n",
            "Epoch 30/100\n",
            "44/44 [==============================] - 4s 97ms/step - loss: 0.0028\n",
            "Epoch 31/100\n",
            "44/44 [==============================] - 4s 97ms/step - loss: 0.0023\n",
            "Epoch 32/100\n",
            "44/44 [==============================] - 4s 97ms/step - loss: 0.0025\n",
            "Epoch 33/100\n",
            "44/44 [==============================] - 4s 96ms/step - loss: 0.0023\n",
            "Epoch 34/100\n",
            "44/44 [==============================] - 4s 99ms/step - loss: 0.0031\n",
            "Epoch 35/100\n",
            "44/44 [==============================] - 4s 102ms/step - loss: 0.0025\n",
            "Epoch 36/100\n",
            "44/44 [==============================] - 4s 97ms/step - loss: 0.0029\n",
            "Epoch 37/100\n",
            "44/44 [==============================] - 4s 97ms/step - loss: 0.0028\n",
            "Epoch 38/100\n",
            "44/44 [==============================] - 4s 98ms/step - loss: 0.0025\n",
            "Epoch 39/100\n",
            "44/44 [==============================] - 4s 97ms/step - loss: 0.0021\n",
            "Epoch 40/100\n",
            "44/44 [==============================] - 4s 98ms/step - loss: 0.0022\n",
            "Epoch 41/100\n",
            "44/44 [==============================] - 4s 98ms/step - loss: 0.0023\n",
            "Epoch 42/100\n",
            "44/44 [==============================] - 4s 101ms/step - loss: 0.0022\n",
            "Epoch 43/100\n",
            "44/44 [==============================] - 4s 98ms/step - loss: 0.0020\n",
            "Epoch 44/100\n",
            "44/44 [==============================] - 4s 98ms/step - loss: 0.0020\n",
            "Epoch 45/100\n",
            "44/44 [==============================] - 4s 99ms/step - loss: 0.0022\n",
            "Epoch 46/100\n",
            "44/44 [==============================] - 4s 99ms/step - loss: 0.0022\n",
            "Epoch 47/100\n",
            "44/44 [==============================] - 4s 98ms/step - loss: 0.0019\n",
            "Epoch 48/100\n",
            "44/44 [==============================] - 4s 98ms/step - loss: 0.0021\n",
            "Epoch 49/100\n",
            "44/44 [==============================] - 4s 100ms/step - loss: 0.0021\n",
            "Epoch 50/100\n",
            "44/44 [==============================] - 4s 100ms/step - loss: 0.0021\n",
            "Epoch 51/100\n",
            "44/44 [==============================] - 4s 98ms/step - loss: 0.0020\n",
            "Epoch 52/100\n",
            "44/44 [==============================] - 4s 98ms/step - loss: 0.0020\n",
            "Epoch 53/100\n",
            "44/44 [==============================] - 4s 99ms/step - loss: 0.0019\n",
            "Epoch 54/100\n",
            "44/44 [==============================] - 4s 96ms/step - loss: 0.0017\n",
            "Epoch 55/100\n",
            "44/44 [==============================] - 4s 98ms/step - loss: 0.0019\n",
            "Epoch 56/100\n",
            "44/44 [==============================] - 4s 98ms/step - loss: 0.0020\n",
            "Epoch 57/100\n",
            "44/44 [==============================] - 4s 97ms/step - loss: 0.0018\n",
            "Epoch 58/100\n",
            "44/44 [==============================] - 4s 97ms/step - loss: 0.0020\n",
            "Epoch 59/100\n",
            "44/44 [==============================] - 4s 97ms/step - loss: 0.0020\n",
            "Epoch 60/100\n",
            "44/44 [==============================] - 4s 97ms/step - loss: 0.0018\n",
            "Epoch 61/100\n",
            "44/44 [==============================] - 4s 97ms/step - loss: 0.0019\n",
            "Epoch 62/100\n",
            "44/44 [==============================] - 4s 97ms/step - loss: 0.0018\n",
            "Epoch 63/100\n",
            "44/44 [==============================] - 4s 99ms/step - loss: 0.0015\n",
            "Epoch 64/100\n",
            "44/44 [==============================] - 4s 98ms/step - loss: 0.0018\n",
            "Epoch 65/100\n",
            "44/44 [==============================] - 4s 98ms/step - loss: 0.0018\n",
            "Epoch 66/100\n",
            "44/44 [==============================] - 4s 96ms/step - loss: 0.0018\n",
            "Epoch 67/100\n",
            "44/44 [==============================] - 4s 96ms/step - loss: 0.0016\n",
            "Epoch 68/100\n",
            "44/44 [==============================] - 4s 97ms/step - loss: 0.0017\n",
            "Epoch 69/100\n",
            "44/44 [==============================] - 4s 99ms/step - loss: 0.0020\n",
            "Epoch 70/100\n",
            "44/44 [==============================] - 4s 98ms/step - loss: 0.0017\n",
            "Epoch 71/100\n",
            "44/44 [==============================] - 4s 100ms/step - loss: 0.0018\n",
            "Epoch 72/100\n",
            "44/44 [==============================] - 4s 97ms/step - loss: 0.0016\n",
            "Epoch 73/100\n",
            "44/44 [==============================] - 4s 97ms/step - loss: 0.0018\n",
            "Epoch 74/100\n",
            "44/44 [==============================] - 4s 97ms/step - loss: 0.0016\n",
            "Epoch 75/100\n",
            "44/44 [==============================] - 4s 97ms/step - loss: 0.0015\n",
            "Epoch 76/100\n",
            "44/44 [==============================] - 4s 97ms/step - loss: 0.0015\n",
            "Epoch 77/100\n",
            "44/44 [==============================] - 4s 95ms/step - loss: 0.0015\n",
            "Epoch 78/100\n",
            "44/44 [==============================] - 4s 99ms/step - loss: 0.0015\n",
            "Epoch 79/100\n",
            "44/44 [==============================] - 4s 98ms/step - loss: 0.0017\n",
            "Epoch 80/100\n",
            "44/44 [==============================] - 4s 97ms/step - loss: 0.0015\n",
            "Epoch 81/100\n",
            "44/44 [==============================] - 4s 96ms/step - loss: 0.0015\n",
            "Epoch 82/100\n",
            "44/44 [==============================] - 4s 97ms/step - loss: 0.0014\n",
            "Epoch 83/100\n",
            "44/44 [==============================] - 4s 97ms/step - loss: 0.0014\n",
            "Epoch 84/100\n",
            "44/44 [==============================] - 4s 95ms/step - loss: 0.0015\n",
            "Epoch 85/100\n",
            "44/44 [==============================] - 4s 97ms/step - loss: 0.0015\n",
            "Epoch 86/100\n",
            "44/44 [==============================] - 4s 96ms/step - loss: 0.0017\n",
            "Epoch 87/100\n",
            "44/44 [==============================] - 4s 97ms/step - loss: 0.0015\n",
            "Epoch 88/100\n",
            "44/44 [==============================] - 4s 98ms/step - loss: 0.0016\n",
            "Epoch 89/100\n",
            "44/44 [==============================] - 4s 97ms/step - loss: 0.0014\n",
            "Epoch 90/100\n",
            "44/44 [==============================] - 4s 97ms/step - loss: 0.0016\n",
            "Epoch 91/100\n",
            "44/44 [==============================] - 4s 97ms/step - loss: 0.0014\n",
            "Epoch 92/100\n",
            "44/44 [==============================] - 4s 97ms/step - loss: 0.0014\n",
            "Epoch 93/100\n",
            "44/44 [==============================] - 4s 98ms/step - loss: 0.0014\n",
            "Epoch 94/100\n",
            "44/44 [==============================] - 4s 95ms/step - loss: 0.0014\n",
            "Epoch 95/100\n",
            "44/44 [==============================] - 4s 95ms/step - loss: 0.0013\n",
            "Epoch 96/100\n",
            "44/44 [==============================] - 4s 97ms/step - loss: 0.0014\n",
            "Epoch 97/100\n",
            "44/44 [==============================] - 4s 96ms/step - loss: 0.0014\n",
            "Epoch 98/100\n",
            "44/44 [==============================] - 4s 97ms/step - loss: 0.0015\n",
            "Epoch 99/100\n",
            "44/44 [==============================] - 4s 97ms/step - loss: 0.0013\n",
            "Epoch 100/100\n",
            "44/44 [==============================] - 4s 99ms/step - loss: 0.0014\n"
          ]
        },
        {
          "output_type": "execute_result",
          "data": {
            "text/plain": [
              "<keras.callbacks.History at 0x7fc6120a56d0>"
            ]
          },
          "metadata": {},
          "execution_count": 14
        }
      ]
    },
    {
      "cell_type": "markdown",
      "source": [
        "##Making the predictions and visualizing the results"
      ],
      "metadata": {
        "id": "2-S-dSnEuJwj"
      }
    },
    {
      "cell_type": "markdown",
      "source": [
        "###Getting the real stock price of months April and May 2022"
      ],
      "metadata": {
        "id": "jZy21924wWWm"
      }
    },
    {
      "cell_type": "code",
      "source": [
        "test_df = pd.read_csv('Nestle_India_Stock_Price_Test.csv')\n",
        "test_df.info()"
      ],
      "metadata": {
        "colab": {
          "base_uri": "https://localhost:8080/"
        },
        "id": "quK6m9Kwt8Si",
        "outputId": "9c777ac4-72e1-419e-e74b-7cb598826217"
      },
      "execution_count": 29,
      "outputs": [
        {
          "output_type": "stream",
          "name": "stdout",
          "text": [
            "<class 'pandas.core.frame.DataFrame'>\n",
            "RangeIndex: 30 entries, 0 to 29\n",
            "Data columns (total 6 columns):\n",
            " #   Column  Non-Null Count  Dtype \n",
            "---  ------  --------------  ----- \n",
            " 0   Date    30 non-null     object\n",
            " 1   Open    30 non-null     object\n",
            " 2   High    30 non-null     object\n",
            " 3   Low     30 non-null     object\n",
            " 4   Close   30 non-null     object\n",
            " 5   Volume  30 non-null     object\n",
            "dtypes: object(6)\n",
            "memory usage: 1.5+ KB\n"
          ]
        }
      ]
    },
    {
      "cell_type": "code",
      "source": [
        "test_df['Open'] = test_df['Open'].str.replace(',','').astype(np.float64)\n",
        "test_df['High'] = test_df['High'].str.replace(',','').astype(np.float64)\n",
        "test_df['Low'] = test_df['Low'].str.replace(',','').astype(np.float64)\n",
        "test_df['Close'] = test_df['Close'].str.replace(',','').astype(np.float64)\n",
        "test_df['Volume'] = test_df['Volume'].str.replace(',','').astype(np.float64)"
      ],
      "metadata": {
        "id": "F_JpRhW-xzGr"
      },
      "execution_count": 30,
      "outputs": []
    },
    {
      "cell_type": "code",
      "source": [
        "real_stock_price = test_df.iloc[:, 1:2].values"
      ],
      "metadata": {
        "id": "JrbNYPV7yDKR"
      },
      "execution_count": 31,
      "outputs": []
    },
    {
      "cell_type": "markdown",
      "source": [
        "###Getting the predicted stock price"
      ],
      "metadata": {
        "id": "IL5XGeVOxNQY"
      }
    },
    {
      "cell_type": "code",
      "source": [
        "dataset_total = pd.concat((train_df['Open'], test_df['Open']), axis = 0)\n",
        "inputs = dataset_total[len(dataset_total) - len(test_df) - 60:].values\n",
        "inputs = inputs.reshape(-1,1)\n",
        "inputs = sc.transform(inputs)\n",
        "X_test = []\n",
        "for i in range(60, inputs.shape[0]):\n",
        "    X_test.append(inputs[i-60:i, 0])\n",
        "X_test = np.array(X_test)\n",
        "X_test = np.reshape(X_test, (X_test.shape[0], X_test.shape[1], 1))\n",
        "predicted_stock_price = regressor.predict(X_test)\n",
        "predicted_stock_price = sc.inverse_transform(predicted_stock_price)"
      ],
      "metadata": {
        "id": "sB6Y8ppHw0sK"
      },
      "execution_count": 32,
      "outputs": []
    },
    {
      "cell_type": "markdown",
      "source": [
        "###Visualizing the results"
      ],
      "metadata": {
        "id": "MhEWnE33yKQy"
      }
    },
    {
      "cell_type": "code",
      "source": [
        "plt.figure(figsize=(14,5))\n",
        "plt.plot(real_stock_price, color = 'red', label = 'Real Nestle India Stock Price')\n",
        "plt.plot(predicted_stock_price, color = 'blue', label = 'Predicted Nestle India Stock Price')\n",
        "plt.title('Nestle India Stock Price Prediction')\n",
        "plt.xlabel('Time')\n",
        "plt.ylabel('Nestle India Stock Price')\n",
        "plt.legend()\n",
        "plt.show()"
      ],
      "metadata": {
        "colab": {
          "base_uri": "https://localhost:8080/",
          "height": 350
        },
        "id": "78MHCFV5xsv4",
        "outputId": "f023a08c-a9ba-4c24-df53-fbab31b5ea7c"
      },
      "execution_count": 33,
      "outputs": [
        {
          "output_type": "display_data",
          "data": {
            "text/plain": [
              "<Figure size 1008x360 with 1 Axes>"
            ],
            "image/png": "[encoded data removed]"
          },
          "metadata": {
            "needs_background": "light"
          }
        }
      ]
    },
    {
      "cell_type": "code",
      "source": [
        ""
      ],
      "metadata": {
        "id": "nw1BuLxjyPxt"
      },
      "execution_count": 33,
      "outputs": []
    }
  ]
}